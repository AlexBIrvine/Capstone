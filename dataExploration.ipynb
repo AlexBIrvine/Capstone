{
 "cells": [
  {
   "cell_type": "code",
   "execution_count": 8,
   "source": [
    "import pandas as pd\r\n",
    "import numpy as np\r\n"
   ],
   "outputs": [],
   "metadata": {}
  },
  {
   "cell_type": "code",
   "execution_count": 13,
   "source": [
    "df_raw = pd.read_csv('./CarRentalDataV1.csv')\r\n",
    "# df_raw.describe()\r\n",
    "df_raw.isna().sum().sum()"
   ],
   "outputs": [
    {
     "output_type": "execute_result",
     "data": {
      "text/plain": [
       "576"
      ]
     },
     "metadata": {},
     "execution_count": 13
    }
   ],
   "metadata": {}
  },
  {
   "cell_type": "code",
   "execution_count": 16,
   "source": [
    "df_clean = pd.read_csv('./CarRentalDataCleaned.csv')\r\n",
    "# df_clean.describe()\r\n",
    "df_clean.isna().sum().sum()"
   ],
   "outputs": [
    {
     "output_type": "execute_result",
     "data": {
      "text/plain": [
       "0"
      ]
     },
     "metadata": {},
     "execution_count": 16
    }
   ],
   "metadata": {}
  },
  {
   "cell_type": "code",
   "execution_count": 15,
   "source": [
    "temp_df = df_raw[df_raw['rating'] < 4]\r\n",
    "print(temp_df)"
   ],
   "outputs": [
    {
     "output_type": "stream",
     "name": "stdout",
     "text": [
      "      fuelType  rating  renterTripsTaken  reviewCount      location.city  \\\n",
      "260     HYBRID    3.86              10.0          7.0          Del Valle   \n",
      "1022  GASOLINE    3.00               1.0          1.0          Annandale   \n",
      "1183  GASOLINE    2.00               1.0          1.0           Loveland   \n",
      "1214    DIESEL    3.50               3.0          2.0           Lakewood   \n",
      "1310  GASOLINE    3.67               5.0          3.0           Dearborn   \n",
      "1482    HYBRID    3.67               5.0          3.0        Jersey City   \n",
      "1651  GASOLINE    1.50               3.0          2.0            Houston   \n",
      "1659  GASOLINE    1.00               2.0          1.0            Houston   \n",
      "2188  GASOLINE    3.67               5.0          3.0          Inglewood   \n",
      "2367  GASOLINE    3.56              10.0          9.0        Kansas City   \n",
      "2684  GASOLINE    3.50              11.0          6.0              Miami   \n",
      "2700  GASOLINE    3.25               5.0          4.0              Miami   \n",
      "2938  GASOLINE    3.00               3.0          2.0        New Orleans   \n",
      "3001  GASOLINE    3.00               1.0          1.0            Oakland   \n",
      "4217  GASOLINE    3.67               3.0          3.0         Fort Myers   \n",
      "4240  GASOLINE    3.50               6.0          4.0  Sunny Isles Beach   \n",
      "4515  GASOLINE    3.67               4.0          3.0        San Antonio   \n",
      "4532  GASOLINE    3.00               2.0          2.0        San Antonio   \n",
      "4661  GASOLINE    1.00               1.0          1.0            Seattle   \n",
      "\n",
      "     location.country  location.latitude  location.longitude location.state  \\\n",
      "260                US          30.218076          -97.662069             TX   \n",
      "1022               US          38.810849          -77.186048             VA   \n",
      "1183               US          40.410407         -104.997213             CO   \n",
      "1214               US          39.681583         -105.100971             CO   \n",
      "1310               US          42.309499          -83.144286             MI   \n",
      "1482               US          40.738874          -74.058996             NJ   \n",
      "1651               US          29.621181          -95.224279             TX   \n",
      "1659               US          29.746675          -95.307274             TX   \n",
      "2188               US          33.953088         -118.374567             CA   \n",
      "2367               US          39.308717          -94.713248             MO   \n",
      "2684               US          25.799535          -80.259676             FL   \n",
      "2700               US          25.798101          -80.261559             FL   \n",
      "2938               US          29.944963          -90.041180             LA   \n",
      "3001               US          37.746369         -122.174740             CA   \n",
      "4217               US          26.595347          -81.884744             FL   \n",
      "4240               US          25.952949          -80.120560             FL   \n",
      "4515               US          29.514017          -98.536698             TX   \n",
      "4532               US          29.486385          -98.715862             TX   \n",
      "4661               US          47.513483         -122.329250             WA   \n",
      "\n",
      "        owner.id  rate.daily   vehicle.make vehicle.model vehicle.type  \\\n",
      "260   11279587.0        31.0         Toyota       Prius c          car   \n",
      "1022  15641562.0        30.0      Chevrolet         Spark          car   \n",
      "1183   3856661.0       101.0            BMW      4 Series          car   \n",
      "1214   8819114.0        57.0     Volkswagen       Touareg          suv   \n",
      "1310    849660.0       300.0  Mercedes-Benz       E-Class          car   \n",
      "1482   3533385.0       140.0        Porsche       Cayenne          suv   \n",
      "1651   8323259.0        35.0      Chevrolet        Malibu          car   \n",
      "1659  14615402.0        55.0  Mercedes-Benz       E-Class          car   \n",
      "2188  11650238.0        30.0            Kia       Cadenza          car   \n",
      "2367   2272659.0        46.0           Ford         Focus          car   \n",
      "2684   1506983.0        34.0         Nissan        Sentra          car   \n",
      "2700   1506983.0        40.0         Nissan        Sentra          car   \n",
      "2938  15077431.0        61.0           Ford      Explorer          suv   \n",
      "3001  14769007.0        70.0         Nissan    Pathfinder          suv   \n",
      "4217  15237628.0        35.0          Scion            tC          car   \n",
      "4240    864946.0       150.0            BMW      4 Series          car   \n",
      "4515     64265.0        35.0      Chevrolet        Malibu          car   \n",
      "4532   8510171.0        65.0      Chevrolet        Impala          car   \n",
      "4661  13785187.0        59.0           Ford       Mustang          car   \n",
      "\n",
      "      vehicle.year  airportcity  \n",
      "260         2012.0       Austin  \n",
      "1022        2013.0   Washington  \n",
      "1183        2015.0       Denver  \n",
      "1214        2012.0       Denver  \n",
      "1310        2014.0      Detroit  \n",
      "1482        2013.0       Newark  \n",
      "1651        2014.0      Houston  \n",
      "1659        2011.0      Houston  \n",
      "2188        2014.0  Los Angeles  \n",
      "2367        2015.0  Kansas City  \n",
      "2684        2019.0        Miami  \n",
      "2700        2017.0        Miami  \n",
      "2938        2015.0  New Orleans  \n",
      "3001        2014.0      Oakland  \n",
      "4217        2014.0   Fort Myers  \n",
      "4240        2018.0   Fort Myers  \n",
      "4515        2018.0  San Antonio  \n",
      "4532        2017.0  San Antonio  \n",
      "4661        2018.0      Seattle  \n"
     ]
    }
   ],
   "metadata": {}
  }
 ],
 "metadata": {
  "orig_nbformat": 4,
  "language_info": {
   "name": "python",
   "version": "3.9.4",
   "mimetype": "text/x-python",
   "codemirror_mode": {
    "name": "ipython",
    "version": 3
   },
   "pygments_lexer": "ipython3",
   "nbconvert_exporter": "python",
   "file_extension": ".py"
  },
  "kernelspec": {
   "name": "python3",
   "display_name": "Python 3.9.4 64-bit"
  },
  "interpreter": {
   "hash": "77eae0d149ba61c2d600661d89f90b4aa2630fec4556ce7a67e67a981106c5c1"
  }
 },
 "nbformat": 4,
 "nbformat_minor": 2
}